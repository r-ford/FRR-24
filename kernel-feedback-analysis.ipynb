{
 "cells": [
  {
   "cell_type": "markdown",
   "id": "f4e48382-3778-4bf8-b3f1-374683f8a26d",
   "metadata": {},
   "source": [
    "# Radiative kernel feedback analysis for Ford et al. (2025)\n",
    "\n",
    "This notebook performs the radiative kernel feedback analysis, which is used in Figs. 5 and 6. The code in this notebook is based on the demo code here:\n",
    "\n",
    "Angeline G Pendergrass. (2019). apendergrass/cam5-kernels: Up to date codebase as of August 2019 (August-2019). Zenodo. https://doi.org/10.5281/zenodo.3359041."
   ]
  },
  {
   "cell_type": "code",
   "execution_count": 1,
   "id": "24332fdc-a1b7-4b76-8208-c7505a3b4643",
   "metadata": {},
   "outputs": [],
   "source": [
    "import numpy as np\n",
    "import matplotlib.pyplot as plt\n",
    "import matplotlib.colors as clr\n",
    "import matplotlib.lines as mlines\n",
    "import xarray as xr\n",
    "import xesmf as xe\n",
    "from cartopy import crs as ccrs\n",
    "import cartopy.feature as cf\n",
    "import matplotlib.colors as colors\n",
    "from climlab.utils.thermo import qsat\n",
    "import glob, os\n",
    "import s3fs\n",
    "import fsspec"
   ]
  },
  {
   "cell_type": "markdown",
   "id": "7be20952-289d-44e5-9487-7d2307c673d1",
   "metadata": {},
   "source": [
    "Define various functions:"
   ]
  },
  {
   "cell_type": "code",
   "execution_count": 2,
   "id": "c969c36d-c98a-477b-80b8-1e06752bef49",
   "metadata": {},
   "outputs": [],
   "source": [
    "def global_average(data, lon=True):\n",
    "    weights = np.cos(np.deg2rad(data.lat))\n",
    "    data_weighted = data.weighted(weights)\n",
    "    if lon == True: \n",
    "        return data_weighted.mean(dim=['lat', 'lon'], skipna=True)\n",
    "    else: return data_weighted.mean(dim='lat', skipna=True)"
   ]
  },
  {
   "cell_type": "code",
   "execution_count": 3,
   "id": "2104c20f-87e3-496d-a11e-d98960eca997",
   "metadata": {},
   "outputs": [],
   "source": [
    "def regrid(ds_in, regrid_to, method='bilinear'):\n",
    "    regridder = xe.Regridder(ds_in, regrid_to, method=method, periodic=True, ignore_degenerate=True)\n",
    "    ds_out = regridder(ds_in)\n",
    "    return ds_out"
   ]
  },
  {
   "cell_type": "code",
   "execution_count": 4,
   "id": "d70e71b6-5964-4992-a6d5-69ef7269d094",
   "metadata": {},
   "outputs": [],
   "source": [
    "def tropo_mask(ds):\n",
    "    return ds.where(ds.lev > ((200/90)*abs(ds.lat) + 100))"
   ]
  },
  {
   "cell_type": "code",
   "execution_count": 5,
   "id": "ba39b5be-b4b2-4422-9331-423055edf5fd",
   "metadata": {},
   "outputs": [],
   "source": [
    "def cesm_kernel_analysis(ctrl, expr, kts, kt, kq, ka, ghgfile, aerfile, monthly=True, return_opts='gm'):\n",
    "        \n",
    "    # Temperature\n",
    "    dta = regrid(expr.T - ctrl.T, kt)\n",
    "    dts = regrid(expr.TS - ctrl.TS, kts)\n",
    "    \n",
    "    if monthly is True:\n",
    "        dts_gm = global_average(dts.mean(dim='month'))\n",
    "    else: dts_gm = global_average(dts)\n",
    "    \n",
    "    ts_kernel = kts.FLNT\n",
    "    ts_kernel_cs = kts.FLNTC\n",
    "    dLW_ts = ts_kernel * dts  \n",
    "    dLW_ts_cs = ts_kernel_cs * dts\n",
    "    \n",
    "    ta_kernel = kt.FLNT\n",
    "    ta_kernel_cs = kt.FLNTC\n",
    "    dLW_ta = (ta_kernel * tropo_mask(dta)).sum(dim='lev')\n",
    "    dLW_ta_cs = (ta_kernel_cs * tropo_mask(dta)).sum(dim='lev')\n",
    "    \n",
    "    if monthly is True:\n",
    "        dLW_ts = dLW_ts.mean(dim='month')\n",
    "        dLW_ts_cs = dLW_ts_cs.mean(dim='month')\n",
    "        dLW_ta = dLW_ta.mean(dim='month')\n",
    "        dLW_ta_cs = dLW_ta_cs.mean(dim='month')\n",
    "    \n",
    "    dLW_t_map = -dLW_ta - dLW_ts\n",
    "    dLW_t_gm = global_average(dLW_t_map)\n",
    "    \n",
    "    t_feedback_map = dLW_t_map/dts_gm\n",
    "    t_feedback = dLW_t_gm/dts_gm\n",
    "    \n",
    "    # Planck\n",
    "    dts_3d = dts.expand_dims(dim={'lev': dta.lev})\n",
    "    dt_planck = tropo_mask(dts_3d)\n",
    "    dLW_planck = (ta_kernel * dt_planck).sum(dim='lev')\n",
    "    \n",
    "    if monthly is True:\n",
    "        dLW_planck = dLW_planck.mean(dim='month')\n",
    "    \n",
    "    dLW_planck_map = -dLW_planck - dLW_ts\n",
    "    dLW_planck_gm = global_average(dLW_planck_map)\n",
    "    \n",
    "    planck_feedback_map = dLW_planck_map/dts_gm\n",
    "    planck_feedback = dLW_planck_gm/dts_gm\n",
    "\n",
    "    # LR\n",
    "    dt_lapserate = tropo_mask(dta - dt_planck)\n",
    "    dLW_lapserate = (ta_kernel * dt_lapserate).sum(dim='lev')\n",
    "    \n",
    "    if monthly is True:\n",
    "        dLW_lapserate = dLW_lapserate.mean(dim='month')\n",
    "        \n",
    "    dLW_lapserate_map = -dLW_lapserate\n",
    "    dLW_lapserate_gm = global_average(dLW_lapserate_map)\n",
    "    \n",
    "    lapserate_feedback_map = dLW_lapserate_map/dts_gm\n",
    "    lapserate_feedback = dLW_lapserate_gm/dts_gm\n",
    "\n",
    "    # Albedo\n",
    "    alb_ctrl = 1 - (ctrl.FSNS/ctrl.FSDS)\n",
    "    alb_expr = 1 - (expr.FSNS/expr.FSDS)\n",
    "    dalb = (alb_expr - alb_ctrl)*100\n",
    "    dSW_alb = ka.FSNT * regrid(dalb, ka)\n",
    "    dSW_alb_cs = ka.FSNTC * regrid(dalb, ka)\n",
    "    \n",
    "    if monthly is True:\n",
    "        dSW_alb = dSW_alb.mean(dim='month')\n",
    "        dSW_alb_cs = dSW_alb_cs.mean(dim='month')\n",
    "    \n",
    "    a_feedback_map = dSW_alb/dts_gm\n",
    "    a_feedback = global_average(dSW_alb)/dts_gm\n",
    "\n",
    "    # WV\n",
    "    dlogq = np.log(regrid(expr.Q, kq)) - np.log(regrid(ctrl.Q, kq))\n",
    "    small = 0.01\n",
    "    dlogqsatdt = (np.log(qsat(regrid(ctrl.T, kt)+small, ctrl.lev)) - np.log(qsat(regrid(ctrl.T, kt)-small, ctrl.lev))) / (2*small)\n",
    "    dteq_log = tropo_mask(dlogq/dlogqsatdt)\n",
    "\n",
    "    q_LW_kernel = kq.FLNT\n",
    "    q_SW_kernel = kq.FSNT\n",
    "    q_LW_kernel_cs = kq.FLNTC\n",
    "    q_SW_kernel_cs = kq.FSNTC\n",
    "    \n",
    "    dLW_q = (q_LW_kernel * dteq_log).sum(dim='lev')\n",
    "    dSW_q = (q_SW_kernel * dteq_log).sum(dim='lev')\n",
    "    dLW_q_cs = (q_LW_kernel_cs * dteq_log).sum(dim='lev')\n",
    "    dSW_q_cs = (q_SW_kernel_cs * dteq_log).sum(dim='lev')\n",
    "    \n",
    "    if monthly is True:\n",
    "        dLW_q = dLW_q.mean(dim='month')\n",
    "        dSW_q = dSW_q.mean(dim='month')\n",
    "        dLW_q_cs = dLW_q_cs.mean(dim='month')\n",
    "        dSW_q_cs = dSW_q_cs.mean(dim='month')\n",
    "    \n",
    "    q_feedback_map = (-dLW_q+dSW_q)/dts_gm\n",
    "    q_feedback = global_average(-dLW_q+dSW_q)/dts_gm\n",
    "    \n",
    "    lw_q_fb_map = -dLW_q/dts_gm\n",
    "    lw_q_fb = global_average(-dLW_q)/dts_gm\n",
    "\n",
    "    sw_q_fb_map = dSW_q/dts_gm\n",
    "    sw_q_fb = global_average(dSW_q)/dts_gm\n",
    "    \n",
    "    # Cloud\n",
    "    d_sw = expr.FSNT - ctrl.FSNT\n",
    "    d_sw_cs = expr.FSNTC - ctrl.FSNTC\n",
    "    d_lw = expr.FLNT - ctrl.FLNT\n",
    "    d_lw_cs = expr.FLNTC - ctrl.FLNTC\n",
    "    d_cre_sw = d_sw_cs - d_sw\n",
    "    d_cre_lw = d_lw_cs - d_lw\n",
    "\n",
    "    ghgfile_sw = ghgfile.FSNT\n",
    "    ghgfile_sw_cs = ghgfile.FSNTC\n",
    "    ghgfile_lw = ghgfile.FLNT\n",
    "    ghgfile_lw_cs = ghgfile.FLNTC\n",
    "    ghg_sw = ghgfile_sw_cs - ghgfile_sw\n",
    "    ghg_lw = ghgfile_lw_cs - ghgfile_lw\n",
    "    aerfile_sw = aerfile.FSNT\n",
    "    aerfile_sw_cs = aerfile.FSNTC\n",
    "    aerfile_lw = aerfile.FLNT\n",
    "    aerfile_lw_cs = aerfile.FLNTC\n",
    "    aer_sw = aerfile_sw_cs - aerfile_sw\n",
    "    aer_lw = aerfile_lw_cs - aerfile_lw\n",
    "    cloud_masking_of_forcing_sw = aer_sw + ghg_sw\n",
    "    cloud_masking_of_forcing_lw = aer_lw + ghg_lw\n",
    "\n",
    "    dLW_cloud = -regrid(d_cre_lw, kts) + cloud_masking_of_forcing_lw + (dLW_q_cs-dLW_q) + (dLW_ta_cs-dLW_ta) + (dLW_ts_cs-dLW_ts)\n",
    "    dSW_cloud = -regrid(d_cre_sw, kts) + cloud_masking_of_forcing_sw + (dSW_q_cs-dSW_q) + (dSW_alb_cs-dSW_alb)\n",
    "    \n",
    "    if monthly is True:\n",
    "        dLW_cloud = dLW_cloud.mean(dim='month')\n",
    "        dSW_cloud = dSW_cloud.mean(dim='month')\n",
    "    \n",
    "    lw_c_fb_map = -dLW_cloud/dts_gm\n",
    "    lw_c_fb = global_average(-dLW_cloud)/dts_gm\n",
    "\n",
    "    sw_c_fb_map = dSW_cloud/dts_gm\n",
    "    sw_c_fb = global_average(dSW_cloud)/dts_gm\n",
    "    \n",
    "    # Total\n",
    "    total_feedback = planck_feedback + lapserate_feedback + q_feedback + a_feedback + sw_c_fb + lw_c_fb\n",
    "    total_feedback_map = planck_feedback_map + lapserate_feedback_map + q_feedback_map + a_feedback_map + sw_c_fb_map + lw_c_fb_map\n",
    "\n",
    "    # Dictionaries to return\n",
    "    feedbacks = {}\n",
    "    feedbacks['Total'] = total_feedback.load()\n",
    "    \n",
    "    feedbacks['Planck'] = planck_feedback.load()\n",
    "    feedbacks['LR'] = lapserate_feedback.load()\n",
    "    feedbacks['Net_T'] = feedbacks['Planck'] + feedbacks['LR']\n",
    "    \n",
    "    feedbacks['SW_q'] = sw_q_fb.load()\n",
    "    feedbacks['LW_q'] = lw_q_fb.load()\n",
    "    feedbacks['Net_q'] = feedbacks['SW_q'] + feedbacks['LW_q']\n",
    "    \n",
    "    feedbacks['SW_cloud'] = sw_c_fb.load()\n",
    "    feedbacks['LW_cloud'] = lw_c_fb.load()\n",
    "    feedbacks['Net_cloud'] = feedbacks['SW_cloud'] + feedbacks['LW_cloud']\n",
    "\n",
    "    feedbacks['Albedo'] = a_feedback.load()\n",
    "\n",
    "    feedbacks_map = {}\n",
    "    feedbacks_map['Total'] = total_feedback_map.load()\n",
    "    \n",
    "    feedbacks_map['Planck'] = planck_feedback_map.load()\n",
    "    feedbacks_map['LR'] = lapserate_feedback_map.load()\n",
    "    feedbacks_map['Net_T'] = feedbacks_map['Planck'] + feedbacks_map['LR']\n",
    "\n",
    "    feedbacks_map['SW_q'] = sw_q_fb_map.load()\n",
    "    feedbacks_map['LW_q'] = lw_q_fb_map.load()\n",
    "    feedbacks_map['Net_q'] = feedbacks_map['SW_q'] + feedbacks_map['LW_q']\n",
    "        \n",
    "    feedbacks_map['SW_cloud'] = sw_c_fb_map.load()\n",
    "    feedbacks_map['LW_cloud'] = lw_c_fb_map.load()\n",
    "    feedbacks_map['Net_cloud'] = feedbacks_map['SW_cloud'] + feedbacks_map['LW_cloud']\n",
    "\n",
    "    feedbacks_map['Albedo'] = a_feedback_map.load()\n",
    "    \n",
    "    if return_opts == 'gm':\n",
    "        return feedbacks\n",
    "    if return_opts == 'map':\n",
    "        return feedbacks_map\n",
    "    if return_opts == 'both':\n",
    "        return {'gm': feedbacks, 'map': feedbacks_map}"
   ]
  },
  {
   "cell_type": "code",
   "execution_count": 6,
   "id": "e5d191e0-d4e4-4428-8fac-12aff6e6bcfd",
   "metadata": {},
   "outputs": [],
   "source": [
    "def fix_dim(ds):\n",
    "    ds['time'] = np.arange(1, 13)\n",
    "    return ds.rename_dims({'time': 'month'})"
   ]
  },
  {
   "cell_type": "markdown",
   "id": "4f3658eb-cf60-4c9e-a4ea-bcfe4ea1594c",
   "metadata": {},
   "source": [
    "## Load kernels and data\n",
    "\n",
    "If you are running this notebook locally, the kernel and forcing data should be downloaded from https://zenodo.org/records/997902, with the filepaths below changed accordingly (the filenames here are the same as the originals):"
   ]
  },
  {
   "cell_type": "code",
   "execution_count": 7,
   "id": "2a4a24b0-04ae-456b-a695-e5c3293346e3",
   "metadata": {},
   "outputs": [],
   "source": [
    "kq = fix_dim(xr.open_dataset('/roselab_rit/rford/OHUTCR-data/cam5-kernels/kernels/q.kernel.nc'))\n",
    "kt = fix_dim(xr.open_dataset('/roselab_rit/rford/OHUTCR-data/cam5-kernels/kernels/t.kernel.nc'))\n",
    "ka = fix_dim(xr.open_dataset('/roselab_rit/rford/OHUTCR-data/cam5-kernels/kernels/alb.kernel.nc'))\n",
    "kts = fix_dim(xr.open_dataset('/roselab_rit/rford/OHUTCR-data/cam5-kernels/kernels/ts.kernel.nc'))\n",
    "ghgfile = fix_dim(xr.open_dataset('/roselab_rit/rford/OHUTCR-data/cam5-kernels/forcing/ghg.forcing.nc'))\n",
    "aerfile = fix_dim(xr.open_dataset('/roselab_rit/rford/OHUTCR-data/cam5-kernels/forcing/aerosol.forcing.nc'))\n",
    "\n",
    "kq_ann = kq.mean(dim='month')\n",
    "kt_ann = kt.mean(dim='month')\n",
    "ka_ann = ka.mean(dim='month')\n",
    "kts_ann = kts.mean(dim='month')\n",
    "ghgfile_ann = ghgfile.mean(dim='month')\n",
    "aerfile_ann = aerfile.mean(dim='month')"
   ]
  },
  {
   "cell_type": "code",
   "execution_count": 8,
   "id": "57a50418-d5a4-43ef-a898-cf6c5ead2039",
   "metadata": {},
   "outputs": [
    {
     "data": {
      "text/plain": [
       "[<File-like object S3FileSystem, pythia/OHUTCR-data/CESM1-CAM5_CO2.cam.h0.mean.nc>,\n",
       " <File-like object S3FileSystem, pythia/OHUTCR-data/CESM1-CAM5_ctrl.cam.h0.mean.nc>,\n",
       " <File-like object S3FileSystem, pythia/OHUTCR-data/OHUTCR-feedbacks.nc>,\n",
       " <File-like object S3FileSystem, pythia/OHUTCR-data/cmip5em-tcr-mean-output.nc>,\n",
       " <File-like object S3FileSystem, pythia/OHUTCR-data/cold4-model-tcr-mean-output.nc>,\n",
       " <File-like object S3FileSystem, pythia/OHUTCR-data/pop_frc.b.e11.B1850C5CN.f19_g16.130429.nc>,\n",
       " <File-like object S3FileSystem, pythia/OHUTCR-data/warm13-model-tcr-mean-output.nc>]"
      ]
     },
     "execution_count": 8,
     "metadata": {},
     "output_type": "execute_result"
    }
   ],
   "source": [
    "URL = 'https://js2.jetstream-cloud.org:8001/'\n",
    "path = f'pythia/OHUTCR-data'\n",
    "fs = fsspec.filesystem(\"s3\", anon=True, client_kwargs=dict(endpoint_url=URL))\n",
    "pattern = f's3://{path}/*.nc'\n",
    "files = sorted(fs.glob(pattern))\n",
    "fileset = [fs.open(file) for file in files]\n",
    "fileset"
   ]
  },
  {
   "cell_type": "code",
   "execution_count": 9,
   "id": "eb9b22e4-285b-4ea3-bff4-58bbb8bb9345",
   "metadata": {},
   "outputs": [],
   "source": [
    "expr = xr.open_dataset(fileset[6]).drop_sel(model='GFDL-ESM2G')"
   ]
  },
  {
   "cell_type": "code",
   "execution_count": 10,
   "id": "e7ef7da9-bbf1-4a4c-a579-dc6f793757ac",
   "metadata": {},
   "outputs": [],
   "source": [
    "expr_em = xr.open_dataset(fileset[3])"
   ]
  },
  {
   "cell_type": "code",
   "execution_count": 11,
   "id": "12f730db-23de-4613-88d2-cc7bad63bae6",
   "metadata": {},
   "outputs": [],
   "source": [
    "expr_2x = xr.open_dataset(fileset[0]).isel(time=0)"
   ]
  },
  {
   "cell_type": "code",
   "execution_count": 12,
   "id": "44e867b6-86e2-4dbb-a289-0317e7981733",
   "metadata": {},
   "outputs": [],
   "source": [
    "ctrl = xr.open_dataset(fileset[1]).isel(time=0)"
   ]
  },
  {
   "cell_type": "markdown",
   "id": "42717225-05a4-44d2-b670-66f8025c4484",
   "metadata": {},
   "source": [
    "## Do the analysis"
   ]
  },
  {
   "cell_type": "code",
   "execution_count": 13,
   "id": "3ee102cd-d4b1-4419-86c3-7f26427c87f7",
   "metadata": {},
   "outputs": [
    {
     "name": "stderr",
     "output_type": "stream",
     "text": [
      "/knight/anaconda_jan21/envs/aug21/lib/python3.8/site-packages/xarray/core/dataarray.py:789: FutureWarning: elementwise comparison failed; returning scalar instead, but in the future will perform elementwise comparison\n",
      "  return key in self.data\n",
      "/knight/anaconda_jan21/envs/aug21/lib/python3.8/site-packages/xesmf/frontend.py:522: FutureWarning: ``output_sizes`` should be given in the ``dask_gufunc_kwargs`` parameter. It will be removed as direct parameter in a future version.\n",
      "  dr_out = xr.apply_ufunc(\n",
      "/knight/anaconda_jan21/envs/aug21/lib/python3.8/site-packages/xarray/core/dataarray.py:789: FutureWarning: elementwise comparison failed; returning scalar instead, but in the future will perform elementwise comparison\n",
      "  return key in self.data\n",
      "/knight/anaconda_jan21/envs/aug21/lib/python3.8/site-packages/xesmf/frontend.py:522: FutureWarning: ``output_sizes`` should be given in the ``dask_gufunc_kwargs`` parameter. It will be removed as direct parameter in a future version.\n",
      "  dr_out = xr.apply_ufunc(\n",
      "/knight/anaconda_jan21/envs/aug21/lib/python3.8/site-packages/xarray/core/dataarray.py:789: FutureWarning: elementwise comparison failed; returning scalar instead, but in the future will perform elementwise comparison\n",
      "  return key in self.data\n",
      "/knight/anaconda_jan21/envs/aug21/lib/python3.8/site-packages/xesmf/frontend.py:522: FutureWarning: ``output_sizes`` should be given in the ``dask_gufunc_kwargs`` parameter. It will be removed as direct parameter in a future version.\n",
      "  dr_out = xr.apply_ufunc(\n",
      "/knight/anaconda_jan21/envs/aug21/lib/python3.8/site-packages/xarray/core/dataarray.py:789: FutureWarning: elementwise comparison failed; returning scalar instead, but in the future will perform elementwise comparison\n",
      "  return key in self.data\n",
      "/knight/anaconda_jan21/envs/aug21/lib/python3.8/site-packages/xesmf/frontend.py:522: FutureWarning: ``output_sizes`` should be given in the ``dask_gufunc_kwargs`` parameter. It will be removed as direct parameter in a future version.\n",
      "  dr_out = xr.apply_ufunc(\n",
      "/knight/anaconda_jan21/envs/aug21/lib/python3.8/site-packages/xarray/core/dataarray.py:789: FutureWarning: elementwise comparison failed; returning scalar instead, but in the future will perform elementwise comparison\n",
      "  return key in self.data\n",
      "/knight/anaconda_jan21/envs/aug21/lib/python3.8/site-packages/xesmf/frontend.py:522: FutureWarning: ``output_sizes`` should be given in the ``dask_gufunc_kwargs`` parameter. It will be removed as direct parameter in a future version.\n",
      "  dr_out = xr.apply_ufunc(\n",
      "/knight/anaconda_jan21/envs/aug21/lib/python3.8/site-packages/xarray/core/dataarray.py:789: FutureWarning: elementwise comparison failed; returning scalar instead, but in the future will perform elementwise comparison\n",
      "  return key in self.data\n",
      "/knight/anaconda_jan21/envs/aug21/lib/python3.8/site-packages/xesmf/frontend.py:522: FutureWarning: ``output_sizes`` should be given in the ``dask_gufunc_kwargs`` parameter. It will be removed as direct parameter in a future version.\n",
      "  dr_out = xr.apply_ufunc(\n"
     ]
    }
   ],
   "source": [
    "feedbacks = cesm_kernel_analysis(ctrl, expr, kts_ann, kt_ann, kq_ann, ka_ann, ghgfile_ann, aerfile_ann, monthly=False, return_opts='both')"
   ]
  },
  {
   "cell_type": "code",
   "execution_count": 14,
   "id": "cab3e21f-4a24-40b4-a628-9857ba9bd297",
   "metadata": {},
   "outputs": [
    {
     "name": "stderr",
     "output_type": "stream",
     "text": [
      "/knight/anaconda_jan21/envs/aug21/lib/python3.8/site-packages/xarray/core/dataarray.py:789: FutureWarning: elementwise comparison failed; returning scalar instead, but in the future will perform elementwise comparison\n",
      "  return key in self.data\n",
      "/knight/anaconda_jan21/envs/aug21/lib/python3.8/site-packages/xesmf/frontend.py:522: FutureWarning: ``output_sizes`` should be given in the ``dask_gufunc_kwargs`` parameter. It will be removed as direct parameter in a future version.\n",
      "  dr_out = xr.apply_ufunc(\n",
      "/knight/anaconda_jan21/envs/aug21/lib/python3.8/site-packages/xarray/core/dataarray.py:789: FutureWarning: elementwise comparison failed; returning scalar instead, but in the future will perform elementwise comparison\n",
      "  return key in self.data\n",
      "/knight/anaconda_jan21/envs/aug21/lib/python3.8/site-packages/xesmf/frontend.py:522: FutureWarning: ``output_sizes`` should be given in the ``dask_gufunc_kwargs`` parameter. It will be removed as direct parameter in a future version.\n",
      "  dr_out = xr.apply_ufunc(\n",
      "/knight/anaconda_jan21/envs/aug21/lib/python3.8/site-packages/xarray/core/dataarray.py:789: FutureWarning: elementwise comparison failed; returning scalar instead, but in the future will perform elementwise comparison\n",
      "  return key in self.data\n",
      "/knight/anaconda_jan21/envs/aug21/lib/python3.8/site-packages/xesmf/frontend.py:522: FutureWarning: ``output_sizes`` should be given in the ``dask_gufunc_kwargs`` parameter. It will be removed as direct parameter in a future version.\n",
      "  dr_out = xr.apply_ufunc(\n",
      "/knight/anaconda_jan21/envs/aug21/lib/python3.8/site-packages/xarray/core/dataarray.py:789: FutureWarning: elementwise comparison failed; returning scalar instead, but in the future will perform elementwise comparison\n",
      "  return key in self.data\n",
      "/knight/anaconda_jan21/envs/aug21/lib/python3.8/site-packages/xesmf/frontend.py:522: FutureWarning: ``output_sizes`` should be given in the ``dask_gufunc_kwargs`` parameter. It will be removed as direct parameter in a future version.\n",
      "  dr_out = xr.apply_ufunc(\n",
      "/knight/anaconda_jan21/envs/aug21/lib/python3.8/site-packages/xarray/core/dataarray.py:789: FutureWarning: elementwise comparison failed; returning scalar instead, but in the future will perform elementwise comparison\n",
      "  return key in self.data\n",
      "/knight/anaconda_jan21/envs/aug21/lib/python3.8/site-packages/xesmf/frontend.py:522: FutureWarning: ``output_sizes`` should be given in the ``dask_gufunc_kwargs`` parameter. It will be removed as direct parameter in a future version.\n",
      "  dr_out = xr.apply_ufunc(\n",
      "/knight/anaconda_jan21/envs/aug21/lib/python3.8/site-packages/xarray/core/dataarray.py:789: FutureWarning: elementwise comparison failed; returning scalar instead, but in the future will perform elementwise comparison\n",
      "  return key in self.data\n",
      "/knight/anaconda_jan21/envs/aug21/lib/python3.8/site-packages/xesmf/frontend.py:522: FutureWarning: ``output_sizes`` should be given in the ``dask_gufunc_kwargs`` parameter. It will be removed as direct parameter in a future version.\n",
      "  dr_out = xr.apply_ufunc(\n",
      "/knight/anaconda_jan21/envs/aug21/lib/python3.8/site-packages/xarray/core/dataarray.py:789: FutureWarning: elementwise comparison failed; returning scalar instead, but in the future will perform elementwise comparison\n",
      "  return key in self.data\n",
      "/knight/anaconda_jan21/envs/aug21/lib/python3.8/site-packages/xesmf/frontend.py:522: FutureWarning: ``output_sizes`` should be given in the ``dask_gufunc_kwargs`` parameter. It will be removed as direct parameter in a future version.\n",
      "  dr_out = xr.apply_ufunc(\n",
      "/knight/anaconda_jan21/envs/aug21/lib/python3.8/site-packages/xarray/core/dataarray.py:789: FutureWarning: elementwise comparison failed; returning scalar instead, but in the future will perform elementwise comparison\n",
      "  return key in self.data\n",
      "/knight/anaconda_jan21/envs/aug21/lib/python3.8/site-packages/xesmf/frontend.py:522: FutureWarning: ``output_sizes`` should be given in the ``dask_gufunc_kwargs`` parameter. It will be removed as direct parameter in a future version.\n",
      "  dr_out = xr.apply_ufunc(\n"
     ]
    }
   ],
   "source": [
    "feedbacks_2x = cesm_kernel_analysis(ctrl, expr_2x, kts_ann, kt_ann, kq_ann, ka_ann, ghgfile_ann, aerfile_ann, monthly=False, return_opts='both')"
   ]
  },
  {
   "cell_type": "code",
   "execution_count": 15,
   "id": "a1e1ea57-f6d5-4bce-a2dd-a5ca63d963f8",
   "metadata": {
    "scrolled": true
   },
   "outputs": [
    {
     "name": "stderr",
     "output_type": "stream",
     "text": [
      "/knight/anaconda_jan21/envs/aug21/lib/python3.8/site-packages/xarray/core/dataarray.py:789: FutureWarning: elementwise comparison failed; returning scalar instead, but in the future will perform elementwise comparison\n",
      "  return key in self.data\n",
      "/knight/anaconda_jan21/envs/aug21/lib/python3.8/site-packages/xesmf/frontend.py:522: FutureWarning: ``output_sizes`` should be given in the ``dask_gufunc_kwargs`` parameter. It will be removed as direct parameter in a future version.\n",
      "  dr_out = xr.apply_ufunc(\n",
      "/knight/anaconda_jan21/envs/aug21/lib/python3.8/site-packages/xarray/core/dataarray.py:789: FutureWarning: elementwise comparison failed; returning scalar instead, but in the future will perform elementwise comparison\n",
      "  return key in self.data\n",
      "/knight/anaconda_jan21/envs/aug21/lib/python3.8/site-packages/xesmf/frontend.py:522: FutureWarning: ``output_sizes`` should be given in the ``dask_gufunc_kwargs`` parameter. It will be removed as direct parameter in a future version.\n",
      "  dr_out = xr.apply_ufunc(\n",
      "/knight/anaconda_jan21/envs/aug21/lib/python3.8/site-packages/xarray/core/dataarray.py:789: FutureWarning: elementwise comparison failed; returning scalar instead, but in the future will perform elementwise comparison\n",
      "  return key in self.data\n",
      "/knight/anaconda_jan21/envs/aug21/lib/python3.8/site-packages/xesmf/frontend.py:522: FutureWarning: ``output_sizes`` should be given in the ``dask_gufunc_kwargs`` parameter. It will be removed as direct parameter in a future version.\n",
      "  dr_out = xr.apply_ufunc(\n",
      "/knight/anaconda_jan21/envs/aug21/lib/python3.8/site-packages/xarray/core/dataarray.py:789: FutureWarning: elementwise comparison failed; returning scalar instead, but in the future will perform elementwise comparison\n",
      "  return key in self.data\n",
      "/knight/anaconda_jan21/envs/aug21/lib/python3.8/site-packages/xesmf/frontend.py:522: FutureWarning: ``output_sizes`` should be given in the ``dask_gufunc_kwargs`` parameter. It will be removed as direct parameter in a future version.\n",
      "  dr_out = xr.apply_ufunc(\n",
      "/knight/anaconda_jan21/envs/aug21/lib/python3.8/site-packages/xarray/core/dataarray.py:789: FutureWarning: elementwise comparison failed; returning scalar instead, but in the future will perform elementwise comparison\n",
      "  return key in self.data\n",
      "/knight/anaconda_jan21/envs/aug21/lib/python3.8/site-packages/xesmf/frontend.py:522: FutureWarning: ``output_sizes`` should be given in the ``dask_gufunc_kwargs`` parameter. It will be removed as direct parameter in a future version.\n",
      "  dr_out = xr.apply_ufunc(\n",
      "/knight/anaconda_jan21/envs/aug21/lib/python3.8/site-packages/xarray/core/dataarray.py:789: FutureWarning: elementwise comparison failed; returning scalar instead, but in the future will perform elementwise comparison\n",
      "  return key in self.data\n",
      "/knight/anaconda_jan21/envs/aug21/lib/python3.8/site-packages/xesmf/frontend.py:522: FutureWarning: ``output_sizes`` should be given in the ``dask_gufunc_kwargs`` parameter. It will be removed as direct parameter in a future version.\n",
      "  dr_out = xr.apply_ufunc(\n"
     ]
    }
   ],
   "source": [
    "feedbacks_em = cesm_kernel_analysis(ctrl, expr_em, kts_ann, kt_ann, kq_ann, ka_ann, ghgfile_ann, aerfile_ann, monthly=False, return_opts='both')"
   ]
  },
  {
   "cell_type": "markdown",
   "id": "c07d689d-553e-4fb5-b480-6d75979ac992",
   "metadata": {},
   "source": [
    "Merge all data into one Dataset:"
   ]
  },
  {
   "cell_type": "code",
   "execution_count": 16,
   "id": "056444fb-08f6-416f-94da-8405022408b7",
   "metadata": {},
   "outputs": [],
   "source": [
    "feedback_maps_ds = feedbacks['map']\n",
    "feedback_2x_maps = feedbacks_2x['map']\n",
    "feedback_em_maps = feedbacks_em['map']"
   ]
  },
  {
   "cell_type": "code",
   "execution_count": 17,
   "id": "6264234b-e7ec-4804-8022-84eea6fa58e9",
   "metadata": {},
   "outputs": [],
   "source": [
    "for key in feedback_maps_ds.keys():\n",
    "    feedback_maps_ds[key] = feedback_maps_ds[key].to_dataset(name=key)"
   ]
  },
  {
   "cell_type": "code",
   "execution_count": 18,
   "id": "5d6a3315-9790-4d6b-9a61-434a6e7a6d43",
   "metadata": {},
   "outputs": [],
   "source": [
    "for key in feedback_2x_maps.keys():\n",
    "    feedback_2x_maps[key] = feedback_2x_maps[key].to_dataset(name=key)"
   ]
  },
  {
   "cell_type": "code",
   "execution_count": 19,
   "id": "0c2a8b0e-019c-4b77-865f-58f90d86be40",
   "metadata": {},
   "outputs": [],
   "source": [
    "for key in feedback_em_maps.keys():\n",
    "    feedback_em_maps[key] = feedback_em_maps[key].to_dataset(name=key)"
   ]
  },
  {
   "cell_type": "code",
   "execution_count": 20,
   "id": "27ba9558-1347-45a5-a49d-d2e44c97b337",
   "metadata": {},
   "outputs": [],
   "source": [
    "fb_merged = xr.merge(feedback_maps_ds.values())"
   ]
  },
  {
   "cell_type": "code",
   "execution_count": 21,
   "id": "21cd1357-5d53-4be8-be65-e8e65aae0c50",
   "metadata": {},
   "outputs": [],
   "source": [
    "fb_2x_merged = xr.merge(feedback_2x_maps.values())"
   ]
  },
  {
   "cell_type": "code",
   "execution_count": 22,
   "id": "609035e7-b883-4cc2-8239-9ca1daafe6a6",
   "metadata": {},
   "outputs": [],
   "source": [
    "fb_em_merged = xr.merge(feedback_em_maps.values())"
   ]
  },
  {
   "cell_type": "code",
   "execution_count": 23,
   "id": "50622879-775e-46fb-94d0-010ef7e2fd4e",
   "metadata": {},
   "outputs": [],
   "source": [
    "fb_2x_merged_exp = fb_2x_merged.expand_dims('model')"
   ]
  },
  {
   "cell_type": "code",
   "execution_count": 24,
   "id": "0e324ecb-df43-4303-a455-cb62ec63cb3e",
   "metadata": {},
   "outputs": [],
   "source": [
    "fb_2x_merged_ = fb_2x_merged.assign_coords({'model': '2xCO2-only'}).expand_dims('model')\n",
    "fb_em_merged_ = fb_em_merged.assign_coords({'model': 'CMIP5-EM'}).expand_dims('model')"
   ]
  },
  {
   "cell_type": "code",
   "execution_count": 25,
   "id": "a096735a-016a-4914-ad6b-641d0db3d4c4",
   "metadata": {},
   "outputs": [],
   "source": [
    "fb_all_merged = xr.merge([fb_merged, fb_2x_merged_, fb_em_merged_])"
   ]
  },
  {
   "cell_type": "markdown",
   "id": "3ff95bb7-e5a9-4299-928b-5270c157dacb",
   "metadata": {},
   "source": [
    "Uncomment and edit the below line to save the file:"
   ]
  },
  {
   "cell_type": "code",
   "execution_count": null,
   "id": "250d1380-0d92-4dda-9cbc-cdd2cf0935e3",
   "metadata": {},
   "outputs": [],
   "source": [
    "# fb_all_merged.to_netcdf('/roselab_rit/rford/OHUTCR-data/OHUTCR-feedbacks.nc')"
   ]
  },
  {
   "cell_type": "code",
   "execution_count": null,
   "id": "1c68669a-ea22-4adb-822e-aae0cb468e52",
   "metadata": {},
   "outputs": [],
   "source": []
  }
 ],
 "metadata": {
  "kernelspec": {
   "display_name": "Python 3 August 2021 Environment",
   "language": "python",
   "name": "aug21"
  },
  "language_info": {
   "codemirror_mode": {
    "name": "ipython",
    "version": 3
   },
   "file_extension": ".py",
   "mimetype": "text/x-python",
   "name": "python",
   "nbconvert_exporter": "python",
   "pygments_lexer": "ipython3",
   "version": "3.8.10"
  }
 },
 "nbformat": 4,
 "nbformat_minor": 5
}
